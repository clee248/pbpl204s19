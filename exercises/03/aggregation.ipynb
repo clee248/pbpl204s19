{
 "cells": [
  {
   "cell_type": "markdown",
   "metadata": {},
   "source": [
    "# Aggregation"
   ]
  },
  {
   "cell_type": "code",
   "execution_count": null,
   "metadata": {},
   "outputs": [],
   "source": [
    "import pandas as pd\n",
    "import numpy as np\n",
    "%matplotlib inline\n",
    "import matplotlib.pyplot as plt\n",
    "import geopandas\n",
    "import pysal"
   ]
  },
  {
   "cell_type": "code",
   "execution_count": null,
   "metadata": {},
   "outputs": [],
   "source": [
    "df_county = pd.read_csv('ca_county_employment.csv')"
   ]
  },
  {
   "cell_type": "code",
   "execution_count": null,
   "metadata": {},
   "outputs": [],
   "source": [
    "df_county.shape"
   ]
  },
  {
   "cell_type": "code",
   "execution_count": null,
   "metadata": {},
   "outputs": [],
   "source": [
    "df_county17 = df_county[df_county.year==2017]"
   ]
  },
  {
   "cell_type": "code",
   "execution_count": null,
   "metadata": {},
   "outputs": [],
   "source": [
    "df_county17.shape"
   ]
  },
  {
   "cell_type": "code",
   "execution_count": null,
   "metadata": {},
   "outputs": [],
   "source": [
    "df_county17.head()"
   ]
  },
  {
   "cell_type": "markdown",
   "metadata": {},
   "source": [
    "## Defining Regions\n",
    "Let's do an example where we partition California into two regions. The first region is composed of Riverside and San Bernardino Counties, and the second region is all other counties."
   ]
  },
  {
   "cell_type": "markdown",
   "metadata": {},
   "source": [
    "### Aggregation Profile"
   ]
  },
  {
   "cell_type": "code",
   "execution_count": null,
   "metadata": {},
   "outputs": [],
   "source": [
    "counties = pd.unique(df_county17.county)\n",
    "ie = [ \"Riverside\", \"San Bernardino\"]\n",
    "non_ie = [county for county in counties if county not in ie]\n"
   ]
  },
  {
   "cell_type": "code",
   "execution_count": null,
   "metadata": {},
   "outputs": [],
   "source": [
    "non_ie"
   ]
  },
  {
   "cell_type": "code",
   "execution_count": null,
   "metadata": {},
   "outputs": [],
   "source": [
    "regions = [ie, non_ie] # our list of region lists"
   ]
  },
  {
   "cell_type": "code",
   "execution_count": null,
   "metadata": {},
   "outputs": [],
   "source": [
    "counties = df_county17.county"
   ]
  },
  {
   "cell_type": "code",
   "execution_count": null,
   "metadata": {},
   "outputs": [],
   "source": [
    "# Create a dictionary to assign a region id to each county, key is county, value is region id\n",
    "region_dict = {}\n",
    "for i,region in enumerate(regions):\n",
    "    for county in region:\n",
    "        region_dict[county] = i"
   ]
  },
  {
   "cell_type": "code",
   "execution_count": null,
   "metadata": {},
   "outputs": [],
   "source": [
    "region_dict"
   ]
  },
  {
   "cell_type": "code",
   "execution_count": null,
   "metadata": {},
   "outputs": [],
   "source": [
    "# now create a new series in the dataframe with these region values\n",
    "df_county17['region'] = [region_dict[county] for county in df_county17.county]"
   ]
  },
  {
   "cell_type": "code",
   "execution_count": null,
   "metadata": {},
   "outputs": [],
   "source": [
    "df_county17.region"
   ]
  },
  {
   "cell_type": "code",
   "execution_count": null,
   "metadata": {},
   "outputs": [],
   "source": [
    "region_dict = {}\n",
    "for i,region in enumerate(regions):\n",
    "    for county in region:\n",
    "        region_dict[county] = i"
   ]
  },
  {
   "cell_type": "markdown",
   "metadata": {},
   "source": [
    "## Group By\n",
    "We can use the `groupby` method of the dataframe to create a new group by object."
   ]
  },
  {
   "cell_type": "code",
   "execution_count": null,
   "metadata": {},
   "outputs": [],
   "source": [
    "region_gb = df_county17.groupby('region')\n",
    "region_gb.head()"
   ]
  },
  {
   "cell_type": "code",
   "execution_count": null,
   "metadata": {},
   "outputs": [],
   "source": [
    "# then we turn this into a region dataframe with as many records as regions\n",
    "region_df = region_gb.sum(axis=0) # convert to a dataframe and sum the groups\n",
    "region_df.head()"
   ]
  },
  {
   "cell_type": "markdown",
   "metadata": {},
   "source": [
    "## Exercise 3 Part 4: EDD Regions\n",
    "\n",
    "We will do this using the official data from EDD but pulled out of a pdf."
   ]
  },
  {
   "cell_type": "code",
   "execution_count": null,
   "metadata": {},
   "outputs": [],
   "source": [
    "# taken from first link at https://www.edd.ca.gov/jobs_and_training/pubs/wsd15-17.pdf\n",
    "edd_regions = \"\"\"Regional Planning Units\n",
    "\n",
    "    1. Coastal Region (4 Local Workforce Development Boards [Local Boards]): Monterey, San Luis Obispo, Santa Barbara, Santa Cruz\n",
    "\n",
    "Counties Included (4): Monterey, Santa Cruz, Santa Barbara, San Luis Obispo \n",
    "\n",
    "Major City Populations in Region: Salinas, Santa Maria, Santa Barbara, Monterey, San Luis Obispo, Santa Cruz\n",
    "\n",
    "    2. Middle Sierra (1 Local Board): Mother Lode\n",
    "\n",
    "Counties Included (4): Amador, Calaveras, Mariposa, Tuolumne\n",
    "\n",
    "Major City Populations in Region: Sonora, Angels City\n",
    "\n",
    "    3. Humboldt (1 Local Board): Humboldt \n",
    "\n",
    "Counties Included (1): Humboldt \n",
    "\n",
    "Major City Populations in Region: Eureka\n",
    "\n",
    "    4. North State (1 Local Board): NORTEC\n",
    "\n",
    "Counties Included (11): Del Norte, Siskiyou, Modoc, Trinity, Shasta, Tehama, Butte, Nevada, Sierra, Plumas, Lassen\n",
    "\n",
    "Major City Populations in Region: Redding, Chico, Paradise, Oroville, Truckee, Susanville\n",
    "\n",
    "    5. Capital Region (4 Local Boards): Golden Sierra, North Central Counties Consortium, SETA, Yolo\n",
    "\n",
    "Counties Included (9): Alpine, Sacramento, Yolo, Sutter, Colusa, Glenn, Yuba, Placer, El Dorado\n",
    "\n",
    "Major City Populations in Region: Sacramento, Elk Grove, Roseville\n",
    "\n",
    "    6. East Bay (4 Local Boards): Contra Costa County, Alameda, Richmond, Oakland\n",
    "\n",
    "Counties Included (2): Contra Costa, Alameda\n",
    "\n",
    "Major City Populations in Region: Oakland, Fremont, Concord, Berkeley, Richmond, Antioch\n",
    "\n",
    "    7. North Bay (5 Local Boards): Marin, Napa-Lake, Sonoma, Solano, Mendocino\n",
    "\n",
    "Counties Included (6): Marin, Napa, Lake, Sonoma, Solano, and Mendocino\n",
    "\n",
    "Major City Populations in Region: Santa Rosa, Vallejo, Fairfield, San Rafael, Napa, Ukiah\n",
    "\n",
    "    8. Bay-Peninsula (4 Local Boards): San Francisco, NOVA, San Jose, San Benito\n",
    "\n",
    "Counties Included (4): San Francisco, San Mateo, Santa Clara, San Benito\n",
    "\n",
    "Major City Populations in Region: San Jose, San Francisco, Sunnyvale, Santa Clara, Daly City, San Mateo, Palo Alto\n",
    "\n",
    "    9. San Joaquin Valley and Associated Counties (8 Local Boards): Fresno, Kern-Inyo-Mono,  Kings, Madera, Merced, San Joaquin, Stanislaus, Tulare\n",
    "\n",
    "Counties Included (10): Fresno, Kern, Inyo, Mono, Kings, Madera, Merced, San Joaquin, Stanislaus, Tulare\n",
    "\n",
    "Major City Populations in Region: Fresno, Bakersfield, Stockton, Modesto, Visalia, Clovis, Merced\t\n",
    "\n",
    "    10. Southern Border (2 Local Boards): San Diego, Imperial\n",
    "\n",
    "Counties Included (2): San Diego, Imperial\n",
    "\n",
    "Major City Populations in Region: San Diego, Chula Vista, Oceanside, Escondido, Carlsbad, El Cajon\n",
    "\n",
    "    11. Los Angeles Basin (7 Local Boards): Los Angeles City, Los Angeles County, Foothill, Southeast Los Angeles County, South Bay, Verdugo, Pacific Gateway \n",
    "\n",
    "Counties Included (1): Los Angeles \n",
    "\n",
    "Major City Populations in Region: Los Angeles, Long Beach, Santa Clarita, Glendale, Lancaster, Palmdale, Pomona, Torrance, Pasadena, El Monte, Downey, Inglewood, West Covina, Norwalk, Burbank, Carson, Compton, Santa Monica\n",
    "\n",
    "    12. Orange (3 Local Boards): Santa Ana, Orange, Anaheim\n",
    "\n",
    "Counties Included (1): Orange\n",
    "\n",
    "Major City Populations in Region: Anaheim, Santa Ana, Irvine, Huntington Beach, Garden Grove, Orange, Fullerton, Costa Mesa, Mission Viejo\n",
    "\n",
    "    13. Inland Empire (3 Local Boards): Riverside, San Bernardino County, San Bernardino City\n",
    "\n",
    "Counties Included (2): Riverside, San Bernardino\n",
    "\n",
    "Major City Populations in Region: Riverside, San Bernardino, Fontana, Moreno Valley, Rancho Cucamonga, Ontario, Corona, Victorville, Murrieta, Temecula, Rialto\n",
    "\n",
    "    14. Ventura (1 Local Board): Ventura\n",
    "\n",
    "Counties Included (1): Ventura\n",
    "\n",
    "Major City Populations in Region: Oxnard, Thousand Oaks, Simi Valley, San Buenaventura\n",
    "\"\"\""
   ]
  },
  {
   "cell_type": "code",
   "execution_count": null,
   "metadata": {},
   "outputs": [],
   "source": [
    "edd_regions"
   ]
  },
  {
   "cell_type": "code",
   "execution_count": null,
   "metadata": {},
   "outputs": [],
   "source": [
    "regions = {}\n",
    "edd_lines = edd_regions.split(\"\\n\\n\")\n",
    "for line in edd_lines:\n",
    "    #print(line)\n",
    "    if \"Counties Included\" in line:\n",
    "        print(line)"
   ]
  },
  {
   "cell_type": "code",
   "execution_count": null,
   "metadata": {},
   "outputs": [],
   "source": [
    "regions = []\n",
    "edd_lines = edd_regions.split(\"\\n\\n\")\n",
    "region=0\n",
    "for line in edd_lines:\n",
    "    #print(line)\n",
    "    if \"Counties Included\" in line:\n",
    "        print(line)\n",
    "        left, right = line.split(\":\")\n",
    "        if ' and ' in right:\n",
    "            right = right.replace(\" and \", \"\")\n",
    "        counties = right.split(\",\")\n",
    "        \n",
    "        regions.append(counties)\n",
    "        \n",
    "        "
   ]
  },
  {
   "cell_type": "code",
   "execution_count": null,
   "metadata": {},
   "outputs": [],
   "source": [
    "regions"
   ]
  },
  {
   "cell_type": "code",
   "execution_count": null,
   "metadata": {},
   "outputs": [],
   "source": [
    "n = 0\n",
    "for region in regions:\n",
    "    n += len(region)"
   ]
  },
  {
   "cell_type": "code",
   "execution_count": null,
   "metadata": {},
   "outputs": [],
   "source": [
    "n"
   ]
  },
  {
   "cell_type": "code",
   "execution_count": null,
   "metadata": {},
   "outputs": [],
   "source": [
    "region_dict = {}\n",
    "for i,region in enumerate(regions):\n",
    "    for county in region:\n",
    "        county = county.strip() # get rid of leading white space\n",
    "        \n",
    "        region_dict[county] = i"
   ]
  },
  {
   "cell_type": "code",
   "execution_count": null,
   "metadata": {},
   "outputs": [],
   "source": [
    "region_dict"
   ]
  },
  {
   "cell_type": "code",
   "execution_count": null,
   "metadata": {},
   "outputs": [],
   "source": [
    "df_county17['region'] = [region_dict[county] for county in df_county17.county]"
   ]
  },
  {
   "cell_type": "code",
   "execution_count": null,
   "metadata": {},
   "outputs": [],
   "source": [
    "df_county17.region"
   ]
  },
  {
   "cell_type": "code",
   "execution_count": null,
   "metadata": {},
   "outputs": [],
   "source": [
    "s = ' San Bernardino'\n",
    "s.strip()"
   ]
  },
  {
   "cell_type": "code",
   "execution_count": null,
   "metadata": {},
   "outputs": [],
   "source": []
  },
  {
   "cell_type": "code",
   "execution_count": null,
   "metadata": {},
   "outputs": [],
   "source": [
    "region_gb = df_county17.groupby('region')\n",
    "region_gb.head()\n",
    "\n",
    "region_df = region_gb.sum(axis=0) # convert to a datafram\n",
    "\n"
   ]
  },
  {
   "cell_type": "code",
   "execution_count": null,
   "metadata": {},
   "outputs": [],
   "source": [
    "region_df[['county', 'Military']].sort_values(by='Military')"
   ]
  },
  {
   "cell_type": "code",
   "execution_count": null,
   "metadata": {},
   "outputs": [],
   "source": [
    "region_df[['county', 'Arts']].sort_values(by='Arts',ascending=False)"
   ]
  },
  {
   "cell_type": "code",
   "execution_count": null,
   "metadata": {},
   "outputs": [],
   "source": [
    "region_df[['county', 'State']].sort_values(by='State',ascending=False)"
   ]
  },
  {
   "cell_type": "code",
   "execution_count": null,
   "metadata": {},
   "outputs": [],
   "source": []
  },
  {
   "cell_type": "markdown",
   "metadata": {},
   "source": [
    "## Mapping Aggregation "
   ]
  },
  {
   "cell_type": "code",
   "execution_count": null,
   "metadata": {},
   "outputs": [],
   "source": [
    "odf = geopandas.read_file('azca.shp')"
   ]
  },
  {
   "cell_type": "code",
   "execution_count": null,
   "metadata": {},
   "outputs": [],
   "source": [
    "odf.head()"
   ]
  },
  {
   "cell_type": "code",
   "execution_count": null,
   "metadata": {},
   "outputs": [],
   "source": [
    "ca_gdf = odf[odf.STATEFP=='06']"
   ]
  },
  {
   "cell_type": "code",
   "execution_count": null,
   "metadata": {},
   "outputs": [],
   "source": [
    "ca_gdf.plot()"
   ]
  },
  {
   "cell_type": "code",
   "execution_count": null,
   "metadata": {},
   "outputs": [],
   "source": [
    "ca_gdf.shape"
   ]
  },
  {
   "cell_type": "code",
   "execution_count": null,
   "metadata": {},
   "outputs": [],
   "source": [
    "df_county17.head()"
   ]
  },
  {
   "cell_type": "code",
   "execution_count": null,
   "metadata": {},
   "outputs": [],
   "source": [
    "ca_gdf.merge(df_county17, left_on='NAME', right_on='county')"
   ]
  },
  {
   "cell_type": "code",
   "execution_count": null,
   "metadata": {},
   "outputs": [],
   "source": [
    "ca_gdf = ca_gdf.merge(df_county17, left_on='NAME', right_on='county')"
   ]
  },
  {
   "cell_type": "code",
   "execution_count": null,
   "metadata": {},
   "outputs": [],
   "source": [
    "ca_gdf.plot(column='region', categorical=True)"
   ]
  },
  {
   "cell_type": "code",
   "execution_count": null,
   "metadata": {},
   "outputs": [],
   "source": [
    "ca_gdf.plot(column='region', categorical=True, legend=True)"
   ]
  },
  {
   "cell_type": "code",
   "execution_count": null,
   "metadata": {},
   "outputs": [],
   "source": [
    "regions_df = ca_gdf.dissolve(by='region')\n"
   ]
  },
  {
   "cell_type": "code",
   "execution_count": null,
   "metadata": {},
   "outputs": [],
   "source": [
    "regions_df.plot()"
   ]
  },
  {
   "cell_type": "code",
   "execution_count": null,
   "metadata": {},
   "outputs": [],
   "source": [
    "regions_df.shape"
   ]
  },
  {
   "cell_type": "code",
   "execution_count": null,
   "metadata": {},
   "outputs": [],
   "source": [
    "regions_df.columns"
   ]
  },
  {
   "cell_type": "code",
   "execution_count": null,
   "metadata": {},
   "outputs": [],
   "source": [
    "regions_df.index"
   ]
  },
  {
   "cell_type": "code",
   "execution_count": null,
   "metadata": {},
   "outputs": [],
   "source": [
    "regions_df['region'] = regions_df.index.values"
   ]
  },
  {
   "cell_type": "code",
   "execution_count": null,
   "metadata": {},
   "outputs": [],
   "source": [
    "regions_df.plot(column='region', categorical='True')"
   ]
  },
  {
   "cell_type": "code",
   "execution_count": null,
   "metadata": {},
   "outputs": [],
   "source": [
    "regions_df.plot(column='region', categorical=True, legend=True, cmap='inferno')"
   ]
  },
  {
   "cell_type": "code",
   "execution_count": null,
   "metadata": {},
   "outputs": [],
   "source": [
    "f, ax = plt.subplots(1, figsize=(12, 12))\n",
    "ax =regions_df.plot(column='region', categorical=True, legend=True, \n",
    "                cmap='tab20b', legend_kwds={'loc': 'lower left'}, ax=ax)\n",
    "\n",
    "ax.set_axis_off()\n",
    "plt.title('California EDD Regions')\n",
    "plt.show()\n",
    "\n"
   ]
  },
  {
   "cell_type": "code",
   "execution_count": null,
   "metadata": {},
   "outputs": [],
   "source": [
    "f, ax = plt.subplots(1, figsize=(12, 12))\n",
    "ax =regions_df.plot(column='region', categorical=True, legend=True, \n",
    "                cmap='tab20b', legend_kwds={'loc': 'lower left'}, ax=ax)\n",
    "\n",
    "ca_gdf.geometry.boundary.plot(color=None,edgecolor='k',linewidth = 2,ax=ax)\n",
    "\n",
    "ax.set_axis_off()\n",
    "plt.title('California EDD Regions')\n",
    "plt.show()\n",
    "\n"
   ]
  },
  {
   "cell_type": "code",
   "execution_count": null,
   "metadata": {},
   "outputs": [],
   "source": [
    "f, ax = plt.subplots(1, figsize=(12, 12))\n",
    "ax =regions_df.plot(column='region', categorical=True, legend=True, \n",
    "                cmap='tab20b', legend_kwds={'loc': 'lower left'}, ax=ax)\n",
    "\n",
    "ca_gdf.geometry.boundary.plot(color=None,edgecolor='k',linewidth = 1,ax=ax)\n",
    "regions_df.geometry.boundary.plot(color=None, edgecolor='k', linewidth=4, ax=ax)\n",
    "ax.set_axis_off()\n",
    "plt.title('California EDD Regions')\n",
    "plt.show()\n",
    "\n"
   ]
  },
  {
   "cell_type": "code",
   "execution_count": null,
   "metadata": {},
   "outputs": [],
   "source": []
  },
  {
   "cell_type": "code",
   "execution_count": null,
   "metadata": {},
   "outputs": [],
   "source": []
  },
  {
   "cell_type": "code",
   "execution_count": null,
   "metadata": {},
   "outputs": [],
   "source": []
  },
  {
   "cell_type": "code",
   "execution_count": null,
   "metadata": {},
   "outputs": [],
   "source": []
  }
 ],
 "metadata": {
  "kernelspec": {
   "display_name": "Python 3",
   "language": "python",
   "name": "python3"
  },
  "language_info": {
   "codemirror_mode": {
    "name": "ipython",
    "version": 3
   },
   "file_extension": ".py",
   "mimetype": "text/x-python",
   "name": "python",
   "nbconvert_exporter": "python",
   "pygments_lexer": "ipython3",
   "version": "3.6.8"
  }
 },
 "nbformat": 4,
 "nbformat_minor": 2
}
